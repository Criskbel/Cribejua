{
 "cells": [
  {
   "cell_type": "markdown",
   "id": "bbe5014d",
   "metadata": {},
   "source": [
    "## Material Transportation for Construction CRIBEJUA (Screening Experts)\n"
   ]
  },
  {
   "cell_type": "markdown",
   "id": "1f5bb5a4",
   "metadata": {},
   "source": [
    "## Introduction\n",
    "\n",
    "One of the common challenges in construction is the logistics of transporting materials to the work sites. This problem is complex because urban transportation involves navigating long distances and traffic congestion. These factors often lead to increased costs when materials are needed on site. \n",
    "\n",
    "Therefore, we formulated this problem with the goal of finding a solution to **minimize transportation costs**.\n"
   ]
  },
  {
   "cell_type": "markdown",
   "id": "3fedb2b6",
   "metadata": {},
   "source": [
    "## Problem Statement\n",
    "\n",
    "This is a mathematical optimization problem involving two supply sources located in the northern and southern zones of the Guadalajara Metropolitan Area (ZMG).  \n",
    "\n",
    "The sources \\( C_1 \\) and \\( C_2 \\) have capacities of 35 and 80 tons of fine aggregates, respectively, used to satisfy demands from construction projects within the ZMG.\n",
    "\n",
    "The objective is to determine how much each source should supply to each project to **minimize total transportation cost**, subject to the supply capacity constraints and the demand requirements.\n"
   ]
  },
  {
   "cell_type": "markdown",
   "id": "336f56ca",
   "metadata": {},
   "source": [
    "## Objective\n",
    "\n",
    "- Define a problem that can be optimized.  \n",
    "- General Objective: Minimize the transportation cost of the material supply problem.  \n",
    "- Specific Objectives: Determine how many tons each branch should supply to each project.\n",
    "\n"
   ]
  },
  {
   "cell_type": "markdown",
   "id": "a6d6a7b2",
   "metadata": {},
   "source": [
    "## Problem Setup  \n",
    "Cribejua has two branches $C_1$ and $C_2$:\n",
    "\n",
    "$C_1$ produces 35 tons of aggregates.  \n",
    "$C_2$ produces 80 tons of aggregates.\n",
    "\n",
    "In the area, there are 6 projects with demand for:\n",
    "\n",
    "- P1 - Fine Aggregates = 10 tons  \n",
    "- P2 - Fine Aggregates = 17 tons  \n",
    "- P3 - Fine Aggregates = 11 tons  \n",
    "- P4 - Fine Aggregates = 33 tons  \n",
    "- P5 - Fine Aggregates = 6 tons  \n",
    "- P6 - Fine Aggregates = 24 tons\n",
    "\n",
    "Market transportation costs per ton are:\n",
    "\n",
    "Cost(pesos) | P1 | P2 | P3 | P4 | P5 | P6  \n",
    ":----|----|----|----|----|----|----  \n",
    "C1 Fine | 5000 | 2000 | 5000 | 3000 | 6000 | 4000  \n",
    "C2 Fine | 5000 | 2000 | 3000 | 2000 | 4000 | 3000  \n",
    "\n",
    "- $x_1$ tons transported from \"C1\" to \"P1\"  \n",
    "- $x_2$ tons transported from \"C1\" to \"P2\"  \n",
    "- $x_3$ tons transported from \"C1\" to \"P3\"  \n",
    "- $x_4$ tons transported from \"C1\" to \"P4\"  \n",
    "- $x_5$ tons transported from \"C1\" to \"P5\"  \n",
    "- $x_6$ tons transported from \"C1\" to \"P6\"  \n",
    "\n",
    "- $x_7$ tons transported from \"C2\" to \"P1\"  \n",
    "- $x_8$ tons transported from \"C2\" to \"P2\"  \n",
    "- $x_9$ tons transported from \"C2\" to \"P3\"  \n",
    "- $x_10$ tons transported from \"C2\" to \"P4\"  \n",
    "- $x_11$ tons transported from \"C2\" to \"P5\"  \n",
    "- $x_12$ tons transported from \"C2\" to \"P6\"  \n",
    "\n",
    "Capacity of C1:  \n",
    "\n",
    "$x_1 + x_2 + x_3 + x_4 + x_5 + x_6 \\leq 35$  \n",
    "\n",
    "Capacity of C2:  \n",
    "\n",
    "$x_7 + x_8 + x_9 + x_10 + x_11 + x_12 \\leq 80$  \n",
    "\n",
    "Demand of P1:  \n",
    "\n",
    "$x_1 + x_7 \\geq 10$  \n",
    "\n",
    "Demand of P2:  \n",
    "\n",
    "$x_2 + x_8 \\geq 17$  \n",
    "\n",
    "Demand of P3:  \n",
    "\n",
    "$x_3 + x_9 \\geq 11$  \n",
    "\n",
    "Demand of P4:  \n",
    "\n",
    "$x_4 + x_10 \\geq 33$  \n",
    "\n",
    "Demand of P5:  \n",
    "\n",
    "$x_5 + x_11 \\geq 6$  \n",
    "\n",
    "Demand of P6:  \n",
    "\n",
    "$x_6 + x_12 \\geq 24$  \n",
    "\n",
    "The objective function is:  \n",
    "\n",
    "$$\\min_{x_1,\\dots,x_12} 5000x_1 + 2000x_2 + 5000x_3 + 3000x_4 + 6000x_5 + 4000x_6 + 5000x_7 + 1000x_8 + 3000x_9 + 2000x_10 + 4000x_11 + 3000x_12$$\n",
    "\n"
   ]
  },
  {
   "cell_type": "code",
   "execution_count": 9,
   "id": "64b2ec75",
   "metadata": {},
   "outputs": [],
   "source": [
    "import numpy as np\n",
    "from scipy import optimize as opt\n",
    "\n"
   ]
  },
  {
   "cell_type": "code",
   "execution_count": 10,
   "id": "e1e10139",
   "metadata": {},
   "outputs": [],
   "source": [
    "c = np.array([5000,2000,5000,3000,6000,4000,5000,1000,3000,2000,4000,3000])\n",
    "\n",
    "A_ineq =np.array([[1,1,1,1,1,1,0,0,0,0,0,0],\n",
    "                 [0,0,0,0,0,0,1,1,1,1,1,1],\n",
    "                 [-1,0,0,0,0,0,-1,0,0,0,0,0],\n",
    "                 [0,-1,0,0,0,0,0,-1,0,0,0,0],\n",
    "                 [0,0,-1,0,0,0,0,0,-1,0,0,0],\n",
    "                 [0,0,0,-1,0,0,0,0,0,-1,0,0],\n",
    "                 [0,0,0,0,-1,0,0,0,0,0,-1,0],\n",
    "                 [0,0,0,0,0,-1,0,0,0,0,0,-1]])\n",
    "\n",
    "b_ineq=np.array([35,80,-10,-17,-11,-33,-6,-24])\n",
    "bnds = ((0,None),)*12"
   ]
  },
  {
   "cell_type": "code",
   "execution_count": 11,
   "id": "a37c96d2",
   "metadata": {},
   "outputs": [
    {
     "data": {
      "text/plain": [
       "     con: array([], dtype=float64)\n",
       "     fun: 272999.9999914892\n",
       " message: 'Optimization terminated successfully.'\n",
       "     nit: 8\n",
       "   slack: array([ 1.40000000e+01,  2.52578047e-09, -3.04479997e-10, -4.89777108e-10,\n",
       "       -3.39024808e-10, -1.08076392e-09, -1.65091940e-10, -7.90752352e-10])\n",
       "  status: 0\n",
       " success: True\n",
       "       x: array([1.00000000e+01, 5.93144788e+00, 2.04924986e-11, 2.45184183e+00,\n",
       "       2.87358834e-11, 2.61671029e+00, 3.00738660e-12, 1.10685521e+01,\n",
       "       1.10000000e+01, 3.05481582e+01, 6.00000000e+00, 2.13832897e+01])"
      ]
     },
     "execution_count": 11,
     "metadata": {},
     "output_type": "execute_result"
    }
   ],
   "source": [
    "solucion = opt.linprog(c=c, A_ub = A_ineq, b_ub = b_ineq, bounds = bnds)\n",
    "solucion"
   ]
  },
  {
   "cell_type": "code",
   "execution_count": 12,
   "id": "006ada82",
   "metadata": {},
   "outputs": [
    {
     "data": {
      "text/plain": [
       "array([10.,  6.,  0.,  2.,  0.,  3.,  0., 11., 11., 31.,  6., 21.])"
      ]
     },
     "execution_count": 12,
     "metadata": {},
     "output_type": "execute_result"
    }
   ],
   "source": [
    "x_min = np.round(solucion.x)\n",
    "x_min"
   ]
  },
  {
   "cell_type": "markdown",
   "id": "62721576",
   "metadata": {},
   "source": [
    "Results (Tons) | P1 | P2 | P3 | P4 | P5 | P6  \n",
    ":----|----|----|----|----|----|----  \n",
    "C1 Fine       | 10 |  6 |  0 |  2 |  0 |  3  \n",
    "C2 Fine       |  0 | 11 | 11 | 31 |  6 | 21  \n"
   ]
  },
  {
   "cell_type": "markdown",
   "id": "c26a267d",
   "metadata": {},
   "source": [
    "## Conclusion\n",
    "\n",
    "Interpreting the data shown in the table, we can see that the South branch (\\(C_1\\)) should discard P3 and P6 since it is not feasible for them to supply these projects. Similarly, the North branch has a larger quantity of available tons and better accessibility to most projects, excluding supplying P1.\n",
    "\n",
    "We can confirm the data interpretation is correct because if we sum the amounts supplied by \\(C_1\\) and \\(C_2\\) to each project, it matches the demand of each one.\n",
    "\n",
    "One of the challenges in large cities is the transportation of goods within them, which is why many companies choose to locate production plants strategically to transport their products as optimally as possible. This was achieved in this project.\n",
    "\n",
    "After completing this work, we realized that tools such as Python and its libraries like NumPy are extremely useful when tackling real applied problems. In our case, we chose Guadalajara to truly imagine the project's context, making the classroom knowledge more concrete through the practical work required to complete the project.\n",
    "\n",
    "Finally, we consider that today’s logistics problems arise frequently due to the high demand for freight and transportation of all kinds. Therefore, as engineers, it is important to apply our knowledge to solve these types of problems.\n"
   ]
  },
  {
   "cell_type": "markdown",
   "id": "a2f3acc8",
   "metadata": {},
   "source": [
    "## REFERENCES ##\n",
    "- Lopez, R. E. (2017, January 18). Problemas de Optimización con Python. Github.io. https://relopezbriega.github.io/blog/2017/01/18/problemas-de-optimizacion-con-python/\n",
    "\n",
    "- Salas, H. (n.d.). PROGRAMACIÓN LINEAL APLICADA. https://www.ecoeediciones.com/wp-content/uploads/2017/07/Programaci%C3%B3n-lineal-2ed.pdf\n",
    "\n",
    "- Marlene, G. (2022). Linear Programming as a Tool for Decision Making (Programación Lineal Como Herramienta Para Toma De Decisiones). Ssrn.com. https://papers.ssrn.com/sol3/papers.cfm?abstract_id=1508437\n",
    "\n"
   ]
  }
 ],
 "metadata": {
  "kernelspec": {
   "display_name": "Python 3 (ipykernel)",
   "language": "python",
   "name": "python3"
  },
  "language_info": {
   "codemirror_mode": {
    "name": "ipython",
    "version": 3
   },
   "file_extension": ".py",
   "mimetype": "text/x-python",
   "name": "python",
   "nbconvert_exporter": "python",
   "pygments_lexer": "ipython3",
   "version": "3.9.12"
  }
 },
 "nbformat": 4,
 "nbformat_minor": 5
}
